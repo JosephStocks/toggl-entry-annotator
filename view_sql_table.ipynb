{
 "cells": [
  {
   "cell_type": "code",
   "execution_count": null,
   "id": "8e4d17ed",
   "metadata": {},
   "outputs": [],
   "source": [
    "import polars as pl\n",
    "pl.Config.set_tbl_rows(100)\n",
    "\n",
    "df = pl.read_database_uri(\n",
    "    query=\"SELECT * FROM time_entries\",\n",
    "    uri=\"sqlite://time_tracking.sqlite\",\n",
    ")\n",
    "df"
   ]
  }
 ],
 "metadata": {
  "kernelspec": {
   "display_name": "Sync Toggl Track Events (uv)",
   "language": "python",
   "name": "sync-toggl-track-events"
  },
  "language_info": {
   "codemirror_mode": {
    "name": "ipython",
    "version": 3
   },
   "file_extension": ".py",
   "mimetype": "text/x-python",
   "name": "python",
   "nbconvert_exporter": "python",
   "pygments_lexer": "ipython3",
   "version": "3.13.3"
  }
 },
 "nbformat": 4,
 "nbformat_minor": 5
}
