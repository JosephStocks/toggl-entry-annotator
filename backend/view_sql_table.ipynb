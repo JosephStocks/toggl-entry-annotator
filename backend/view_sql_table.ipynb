{
 "cells": [
  {
   "cell_type": "code",
   "execution_count": null,
   "id": "8e4d17ed",
   "metadata": {},
   "outputs": [],
   "source": [
    "import polars as pl\n",
    "\n",
    "pl.Config.set_tbl_rows(100)\n",
    "\n",
    "df = pl.read_database_uri(\n",
    "    query=\"SELECT * FROM time_entries\",\n",
    "    uri=\"sqlite://data/time_tracking.sqlite\",\n",
    ")\n",
    "print(df.tail(10).write_csv(line_terminator=\"\\n\"))"
   ]
  },
  {
   "cell_type": "code",
   "execution_count": null,
   "id": "76dc414d",
   "metadata": {},
   "outputs": [],
   "source": [
    "import polars as pl\n",
    "\n",
    "pl.Config.set_tbl_rows(100)\n",
    "\n",
    "df = pl.read_database_uri(\n",
    "    query=\"SELECT * FROM entry_notes WHERE note_text = 'test note'\",\n",
    "    uri=\"sqlite://data/time_tracking.sqlite\",\n",
    ")\n",
    "# print(df.tail(10).write_csv(line_terminator=\"\\n\"))\n",
    "df"
   ]
  },
  {
   "cell_type": "code",
   "execution_count": null,
   "id": "f335f276",
   "metadata": {},
   "outputs": [],
   "source": [
    "import sqlite3\n",
    "\n",
    "with sqlite3.connect(\"data/time_tracking.sqlite\") as conn:\n",
    "    cursor = conn.cursor()\n",
    "    cursor.execute(\"DELETE FROM entry_notes WHERE note_text = 'test note'\")\n",
    "    # conn.commit() is called automatically if no exception is raised\n"
   ]
  }
 ],
 "metadata": {
  "kernelspec": {
   "display_name": ".venv",
   "language": "python",
   "name": "python3"
  },
  "language_info": {
   "codemirror_mode": {
    "name": "ipython",
    "version": 3
   },
   "file_extension": ".py",
   "mimetype": "text/x-python",
   "name": "python",
   "nbconvert_exporter": "python",
   "pygments_lexer": "ipython3",
   "version": "3.13.3"
  }
 },
 "nbformat": 4,
 "nbformat_minor": 5
}
