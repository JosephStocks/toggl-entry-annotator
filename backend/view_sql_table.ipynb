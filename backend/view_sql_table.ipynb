{
 "cells": [
  {
   "cell_type": "code",
   "execution_count": 8,
   "id": "8e4d17ed",
   "metadata": {},
   "outputs": [
    {
     "name": "stdout",
     "output_type": "stream",
     "text": [
      "entry_id,description,project_id,project_name,seconds,start,stop,at,start_ts,stop_ts,at_ts,tag_ids,tag_names\n",
      "3975363433,🥪 ☕️ Food/Snack/Drink Breaks,211791047,Personal,58,2025-06-13T15:28:35Z,2025-06-13T15:29:33Z,2025-06-13T15:29:32Z,1749828515,1749828573,1749828572,[],[]\n",
      "3975364995,🚽 Bathroom Break,211791047,Personal,63,2025-06-13T15:29:32Z,2025-06-13T15:30:35Z,2025-06-13T15:30:35Z,1749828572,1749828635,1749828635,[],[]\n",
      "3975366833,Housework,211809797,Home & Family,350,2025-06-13T15:30:34Z,2025-06-13T15:36:24Z,2025-06-13T15:36:23Z,1749828634,1749828984,1749828983,[],[]\n",
      "3975376370,🥪 ☕️ Food/Snack/Drink Breaks,211791047,Personal,126,2025-06-13T15:36:23Z,2025-06-13T15:38:29Z,2025-06-13T15:38:29Z,1749828983,1749829109,1749829109,[],[]\n",
      "3975379368,Housework,211809797,Home & Family,262,2025-06-13T15:38:28Z,2025-06-13T15:42:50Z,2025-06-13T15:42:49Z,1749829108,1749829370,1749829369,[],[]\n",
      "3975385628,🥪 ☕️ Food/Snack/Drink Breaks,211791047,Personal,65,2025-06-13T15:42:49Z,2025-06-13T15:43:54Z,2025-06-13T15:43:53Z,1749829369,1749829434,1749829433,[],[]\n",
      "3975387129,Household Admin,211809797,Home & Family,956,2025-06-13T15:43:53Z,2025-06-13T15:59:49Z,2025-06-13T15:59:48Z,1749829433,1749830389,1749830388,[],[]\n",
      "3975410376,Process Improvement / Management,211855402,Process Improvement / Management,3467,2025-06-13T15:59:48Z,2025-06-13T16:57:35Z,2025-06-13T16:57:35Z,1749830388,1749833855,1749833855,[],[]\n",
      "3975486197,🚽 Bathroom Break,211791047,Personal,232,2025-06-13T16:57:34Z,2025-06-13T17:01:26Z,2025-06-13T17:01:25Z,1749833854,1749834086,1749834085,[],[]\n",
      "3975494625,🥪 ☕️ Food/Snack/Drink Breaks,211791047,Personal,5313,2025-06-13T17:01:25Z,2025-06-13T18:29:58Z,2025-06-13T18:33:17Z,1749834085,1749839398,1749839597,[],[]\n",
      "\n"
     ]
    }
   ],
   "source": [
    "import polars as pl\n",
    "pl.Config.set_tbl_rows(100)\n",
    "\n",
    "df = pl.read_database_uri(\n",
    "    query=\"SELECT * FROM time_entries\",\n",
    "    uri=\"sqlite://time_tracking.sqlite\",\n",
    ")\n",
    "print(df.tail(10).write_csv(line_terminator=\"\\n\"))"
   ]
  }
 ],
 "metadata": {
  "kernelspec": {
   "display_name": ".venv",
   "language": "python",
   "name": "python3"
  },
  "language_info": {
   "codemirror_mode": {
    "name": "ipython",
    "version": 3
   },
   "file_extension": ".py",
   "mimetype": "text/x-python",
   "name": "python",
   "nbconvert_exporter": "python",
   "pygments_lexer": "ipython3",
   "version": "3.13.3"
  }
 },
 "nbformat": 4,
 "nbformat_minor": 5
}
